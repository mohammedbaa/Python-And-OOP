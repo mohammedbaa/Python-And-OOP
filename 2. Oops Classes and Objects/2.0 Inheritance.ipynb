{
 "cells": [
  {
   "cell_type": "markdown",
   "metadata": {},
   "source": [
    "## Inheritance in python "
   ]
  },
  {
   "cell_type": "code",
   "execution_count": 1,
   "metadata": {},
   "outputs": [],
   "source": [
    "## Inheritance (single inheretance)\n",
    "\n",
    "\n",
    "## Parent Class\n",
    "class Car:\n",
    "    def __init__(self,windows,doors,enginetype):\n",
    "        self.windows=windows\n",
    "        self.doors=doors\n",
    "        self.enginetype=enginetype\n",
    "\n",
    "    def drive(self):\n",
    "        print(f\"The Person will drive the {self.enginetype} car\")\n",
    "\n",
    "\n",
    "\n",
    "\n"
   ]
  },
  {
   "cell_type": "code",
   "execution_count": 2,
   "metadata": {},
   "outputs": [
    {
     "name": "stdout",
     "output_type": "stream",
     "text": [
      "The Person will drive the petrol car\n",
      "None\n"
     ]
    }
   ],
   "source": [
    "car1=Car(4,5,'petrol')\n",
    "print(car1.drive())"
   ]
  },
  {
   "cell_type": "code",
   "execution_count": 4,
   "metadata": {},
   "outputs": [
    {
     "name": "stdout",
     "output_type": "stream",
     "text": [
      "Tsla supports self driving : True\n"
     ]
    }
   ],
   "source": [
    "class Tsla(Car):\n",
    "    def __init__(self,windows,doors,enginetype,is_selfdriving):\n",
    "        super().__init__(windows,doors,enginetype) ## Call the attribute from parents\n",
    "        self.is_selfdriving=is_selfdriving\n",
    "\n",
    "    def selfDriving(self):\n",
    "        print(f'Tsla supports self driving : {self.is_selfdriving}')    \n",
    "\n",
    "\n",
    "\n",
    "tesla=Tsla(4,5,'electric',True)\n",
    "tesla.selfDriving()"
   ]
  },
  {
   "cell_type": "code",
   "execution_count": 5,
   "metadata": {},
   "outputs": [
    {
     "name": "stdout",
     "output_type": "stream",
     "text": [
      "The Person will drive the electric car\n"
     ]
    }
   ],
   "source": [
    "tesla.drive() ## I can call the methods "
   ]
  },
  {
   "cell_type": "code",
   "execution_count": 7,
   "metadata": {},
   "outputs": [
    {
     "name": "stdout",
     "output_type": "stream",
     "text": [
      "Buddy say woof\n",
      "owner : Mohammad\n"
     ]
    }
   ],
   "source": [
    "### Multiple Inheretance \n",
    "# when a class inherits from more than one base class \n",
    "\n",
    "class Animal:\n",
    "    def __init__(self,name):\n",
    "        self.name=name\n",
    "\n",
    "    def speak(self):\n",
    "        print(\"subclass must implement this method\")    \n",
    "\n",
    "class Pet:\n",
    "    def __init__(self,owner):\n",
    "        self.owner=owner\n",
    "\n",
    "\n",
    "\n",
    "class Dog(Animal,Pet):\n",
    "    def __init__(self,name,owner):\n",
    "        Animal.__init__(self,name)\n",
    "        Pet.__init__(self,owner)\n",
    "\n",
    "    def speak(self):\n",
    "        return f'{self.name} say woof' \n",
    "\n",
    "\n",
    "## Create an Object \n",
    "        \n",
    "dog=Dog('Buddy','Mohammad')\n",
    "print(dog.speak())\n",
    "print(f'owner : {dog.owner}')\n",
    "\n",
    "\n"
   ]
  },
  {
   "cell_type": "code",
   "execution_count": null,
   "metadata": {},
   "outputs": [],
   "source": []
  }
 ],
 "metadata": {
  "kernelspec": {
   "display_name": "base",
   "language": "python",
   "name": "python3"
  },
  "language_info": {
   "codemirror_mode": {
    "name": "ipython",
    "version": 3
   },
   "file_extension": ".py",
   "mimetype": "text/x-python",
   "name": "python",
   "nbconvert_exporter": "python",
   "pygments_lexer": "ipython3",
   "version": "3.11.7"
  }
 },
 "nbformat": 4,
 "nbformat_minor": 2
}
