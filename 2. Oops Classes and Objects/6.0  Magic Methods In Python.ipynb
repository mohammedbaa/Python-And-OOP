{
 "cells": [
  {
   "cell_type": "markdown",
   "metadata": {},
   "source": [
    "### Magic Methods in python "
   ]
  },
  {
   "cell_type": "markdown",
   "metadata": {},
   "source": [
    " **1) __init__** : constructer \n",
    "\n",
    " **2) __str__** : Return String \n",
    "\n",
    " **3) __repr__**  : Return an official String representation of an Object \n",
    "\n",
    " **4) __len__**  : return len of an object \n",
    "\n",
    " **5) __getitem__**  : get the item from a containar \n",
    "\n",
    " **6) __setitem__**  : set the item from a containar \n",
    " \n",
    "**s__magic method__s**\n",
    "\n",
    "#####  Start and End With Double Under scrole "
   ]
  },
  {
   "cell_type": "code",
   "execution_count": 1,
   "metadata": {},
   "outputs": [
    {
     "data": {
      "text/plain": [
       "'\\n **1) __init__** : constructer \\n\\n **2) __str__** : Return String \\n\\n **3) __repr__**  : Return an official String representation of an Object \\n\\n **4) __len__**  : return len of an object \\n\\n **5) __getitem__**  : get the item from a containar \\n\\n **6) __setitem__**  : set the item from a containar \\n'"
      ]
     },
     "execution_count": 1,
     "metadata": {},
     "output_type": "execute_result"
    }
   ],
   "source": [
    "'''\n",
    " **1) __init__** : constructer \n",
    "\n",
    " **2) __str__** : Return String \n",
    "\n",
    " **3) __repr__**  : Return an official String representation of an Object \n",
    "\n",
    " **4) __len__**  : return len of an object \n",
    "\n",
    " **5) __getitem__**  : get the item from a containar \n",
    "\n",
    " **6) __setitem__**  : set the item from a containar \n",
    "'''"
   ]
  },
  {
   "cell_type": "code",
   "execution_count": 2,
   "metadata": {},
   "outputs": [
    {
     "data": {
      "text/plain": [
       "['__class__',\n",
       " '__delattr__',\n",
       " '__dict__',\n",
       " '__dir__',\n",
       " '__doc__',\n",
       " '__eq__',\n",
       " '__format__',\n",
       " '__ge__',\n",
       " '__getattribute__',\n",
       " '__getstate__',\n",
       " '__gt__',\n",
       " '__hash__',\n",
       " '__init__',\n",
       " '__init_subclass__',\n",
       " '__le__',\n",
       " '__lt__',\n",
       " '__module__',\n",
       " '__ne__',\n",
       " '__new__',\n",
       " '__reduce__',\n",
       " '__reduce_ex__',\n",
       " '__repr__',\n",
       " '__setattr__',\n",
       " '__sizeof__',\n",
       " '__str__',\n",
       " '__subclasshook__',\n",
       " '__weakref__']"
      ]
     },
     "execution_count": 2,
     "metadata": {},
     "output_type": "execute_result"
    }
   ],
   "source": [
    "class Person:\n",
    "     pass \n",
    "person=Person()\n",
    "dir(person)"
   ]
  },
  {
   "cell_type": "code",
   "execution_count": 3,
   "metadata": {},
   "outputs": [
    {
     "name": "stdout",
     "output_type": "stream",
     "text": [
      "<__main__.Person object at 0x00000246A98FF1D0>\n"
     ]
    }
   ],
   "source": [
    "print(person)"
   ]
  },
  {
   "cell_type": "code",
   "execution_count": 5,
   "metadata": {},
   "outputs": [
    {
     "name": "stdout",
     "output_type": "stream",
     "text": [
      "<__main__.Person object at 0x00000246A9936550>\n"
     ]
    }
   ],
   "source": [
    "## Basic Methods\n",
    "class Person: \n",
    "    def __init__(self,name,age):\n",
    "        self.name=name\n",
    "        self.age=age\n",
    "\n",
    "person=Person(\"Mohammad\",24)\n",
    "print(person)\n"
   ]
  },
  {
   "cell_type": "code",
   "execution_count": 7,
   "metadata": {},
   "outputs": [
    {
     "name": "stdout",
     "output_type": "stream",
     "text": [
      "Mohammad,24 Years old\n",
      "Person(name=Mohammad,age=24)\n"
     ]
    }
   ],
   "source": [
    "class Person: \n",
    "    def __init__(self,name,age):\n",
    "        self.name=name\n",
    "        self.age=age\n",
    "\n",
    "    def __str__(self):\n",
    "        return f'{self.name},{self.age} Years old'\n",
    "    \n",
    "    def __repr__(self):\n",
    "        return f'Person(name={self.name},age={self.age})'\n",
    "\n",
    "person=Person(\"Mohammad\",24)\n",
    "print(person)\n",
    "print(repr(person))"
   ]
  }
 ],
 "metadata": {
  "kernelspec": {
   "display_name": "base",
   "language": "python",
   "name": "python3"
  },
  "language_info": {
   "codemirror_mode": {
    "name": "ipython",
    "version": 3
   },
   "file_extension": ".py",
   "mimetype": "text/x-python",
   "name": "python",
   "nbconvert_exporter": "python",
   "pygments_lexer": "ipython3",
   "version": "3.11.7"
  }
 },
 "nbformat": 4,
 "nbformat_minor": 2
}
