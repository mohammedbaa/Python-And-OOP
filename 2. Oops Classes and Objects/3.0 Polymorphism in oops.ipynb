{
 "cells": [
  {
   "cell_type": "markdown",
   "metadata": {},
   "source": [
    "##  Polymorphism "
   ]
  },
  {
   "cell_type": "markdown",
   "metadata": {},
   "source": [
    "### Overridding "
   ]
  },
  {
   "cell_type": "code",
   "execution_count": 4,
   "metadata": {},
   "outputs": [
    {
     "name": "stdout",
     "output_type": "stream",
     "text": [
      "Woof !\n",
      "Meow !\n",
      "Woof !\n"
     ]
    }
   ],
   "source": [
    "## Method Overriding : allowes achild to provide a specific implementation of a method that is already defines in this parent class \n",
    "# Base Class\n",
    "class Animal:\n",
    "    def speak(self):\n",
    "        return 'sound of the animal'\n",
    "    \n",
    "\n",
    "## Derived Class 1\n",
    "class Dog(Animal):\n",
    "    def speak(self):\n",
    "        return \"Woof !\"\n",
    "\n",
    "## Derived Class \n",
    "class Cat(Animal):\n",
    "    def speak(self):\n",
    "        return \"Meow !\"\n",
    "    \n",
    "## Function that Demonstrates Polymorphism \n",
    "def animal_speak(animal):\n",
    "    print(animal.speak())\n",
    "\n",
    "\n",
    "dog=Dog()\n",
    "print(dog.speak())\n",
    "cat=Cat()\n",
    "print(cat.speak())\n",
    "\n",
    "animal_speak(dog)"
   ]
  },
  {
   "cell_type": "code",
   "execution_count": 5,
   "metadata": {},
   "outputs": [
    {
     "name": "stdout",
     "output_type": "stream",
     "text": [
      "area is 20\n",
      "area is 28.259999999999998\n"
     ]
    }
   ],
   "source": [
    "### Polymorphissm with Functions And Methods \n",
    "## Base Class \n",
    "class shape:\n",
    "    def area(self):\n",
    "        return 'The area of the figure'\n",
    "    \n",
    "### Derived Class\n",
    "class Rectangle(shape):\n",
    "    def __init__(self,width,height):\n",
    "        self.width=width\n",
    "        self.height=height\n",
    "\n",
    "    def area(self):\n",
    "        return self.width * self.height\n",
    "\n",
    "### Derived Class 2 \n",
    "class Circle(shape):\n",
    "    def __init__(self,radius):\n",
    "        self.radius=radius\n",
    "\n",
    "    def area(self):\n",
    "        return 3.14 * self.radius*self.radius\n",
    "\n",
    "## Function that dominstrate polymorphism \n",
    "\n",
    "def print_area(shape):\n",
    "    print(f'area is {shape.area()}')\n",
    "\n",
    "\n",
    "\n",
    "rect=Rectangle(4,5)\n",
    "circle=Circle(3)\n",
    "\n",
    "print_area(rect)\n",
    "print_area(circle)\n"
   ]
  },
  {
   "cell_type": "code",
   "execution_count": 6,
   "metadata": {},
   "outputs": [
    {
     "name": "stdout",
     "output_type": "stream",
     "text": [
      "Car engine Start \n"
     ]
    }
   ],
   "source": [
    "## Polymorphissm with Abstract Based Class (Abc): enforce the Drived to implement a method of the Base Class\n",
    "from abc import ABC , abstractmethod\n",
    "\n",
    "## Define an abstract class \n",
    "class Vehicle(ABC):\n",
    "    @abstractmethod\n",
    "    def start_engine(self):\n",
    "        pass\n",
    "\n",
    "## Derived Class 1 \n",
    "class Car(Vehicle):\n",
    "    def start_engine(self):\n",
    "        return \"Car engine Start \"\n",
    "\n",
    "##Derived Class 2 \n",
    "class MOtorcycle(Vehicle):\n",
    "    def start_engine(self):\n",
    "        return \"Motorcycle engine started\"\n",
    "\n",
    "def start_vicle(Vehicle):\n",
    "    print(Vehicle.start_engine())\n",
    "## Create OOP class And MetroCycle \n",
    "\n",
    "car=Car()\n",
    "motorcycle=MOtorcycle()\n",
    "start_vicle(car)\n",
    "\n"
   ]
  }
 ],
 "metadata": {
  "kernelspec": {
   "display_name": "base",
   "language": "python",
   "name": "python3"
  },
  "language_info": {
   "codemirror_mode": {
    "name": "ipython",
    "version": 3
   },
   "file_extension": ".py",
   "mimetype": "text/x-python",
   "name": "python",
   "nbconvert_exporter": "python",
   "pygments_lexer": "ipython3",
   "version": "3.11.7"
  }
 },
 "nbformat": 4,
 "nbformat_minor": 2
}
