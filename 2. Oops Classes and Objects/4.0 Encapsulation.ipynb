{
 "cells": [
  {
   "cell_type": "markdown",
   "metadata": {},
   "source": [
    "## Encapsulation And Abstraction "
   ]
  },
  {
   "cell_type": "markdown",
   "metadata": {},
   "source": [
    "## Encapsulation : wrapping Data and Methods together as a single Unite .\n"
   ]
  },
  {
   "cell_type": "code",
   "execution_count": 1,
   "metadata": {},
   "outputs": [
    {
     "name": "stdout",
     "output_type": "stream",
     "text": [
      "Mohammad\n"
     ]
    }
   ],
   "source": [
    "### Encapsulation Getter and Setter \n",
    "## Public , protected , private Variables \n",
    "\n",
    "class Person :\n",
    "    def __init__(self,name,age):\n",
    "        self.name=name ## Public \n",
    "        self.age=age ## public \n",
    "\n",
    "def get_name(person):\n",
    "    return person.__name\n",
    "\n",
    "person=Person('Mohammad',24)\n",
    "print(person.name)"
   ]
  },
  {
   "cell_type": "code",
   "execution_count": 2,
   "metadata": {},
   "outputs": [
    {
     "data": {
      "text/plain": [
       "['__class__',\n",
       " '__delattr__',\n",
       " '__dict__',\n",
       " '__dir__',\n",
       " '__doc__',\n",
       " '__eq__',\n",
       " '__format__',\n",
       " '__ge__',\n",
       " '__getattribute__',\n",
       " '__getstate__',\n",
       " '__gt__',\n",
       " '__hash__',\n",
       " '__init__',\n",
       " '__init_subclass__',\n",
       " '__le__',\n",
       " '__lt__',\n",
       " '__module__',\n",
       " '__ne__',\n",
       " '__new__',\n",
       " '__reduce__',\n",
       " '__reduce_ex__',\n",
       " '__repr__',\n",
       " '__setattr__',\n",
       " '__sizeof__',\n",
       " '__str__',\n",
       " '__subclasshook__',\n",
       " '__weakref__',\n",
       " 'age',\n",
       " 'name']"
      ]
     },
     "execution_count": 2,
     "metadata": {},
     "output_type": "execute_result"
    }
   ],
   "source": [
    "dir(person)"
   ]
  },
  {
   "cell_type": "code",
   "execution_count": 3,
   "metadata": {},
   "outputs": [
    {
     "data": {
      "text/plain": [
       "'Mohammad'"
      ]
     },
     "execution_count": 3,
     "metadata": {},
     "output_type": "execute_result"
    }
   ],
   "source": [
    "class Person :\n",
    "    def __init__(self,name,age,gender):\n",
    "        self.__name=name ## Private   Cant be accecced from outside class  \n",
    "        self.__age=age ## Private \n",
    "        self.gender=gender\n",
    "    \n",
    "def get_name(person):\n",
    "    return  person._Person__name\n",
    "\n",
    "person=Person('Mohammad',24,'male')\n",
    "get_name(person)"
   ]
  },
  {
   "cell_type": "code",
   "execution_count": 4,
   "metadata": {},
   "outputs": [
    {
     "data": {
      "text/plain": [
       "['_Person__age',\n",
       " '_Person__name',\n",
       " '__class__',\n",
       " '__delattr__',\n",
       " '__dict__',\n",
       " '__dir__',\n",
       " '__doc__',\n",
       " '__eq__',\n",
       " '__format__',\n",
       " '__ge__',\n",
       " '__getattribute__',\n",
       " '__getstate__',\n",
       " '__gt__',\n",
       " '__hash__',\n",
       " '__init__',\n",
       " '__init_subclass__',\n",
       " '__le__',\n",
       " '__lt__',\n",
       " '__module__',\n",
       " '__ne__',\n",
       " '__new__',\n",
       " '__reduce__',\n",
       " '__reduce_ex__',\n",
       " '__repr__',\n",
       " '__setattr__',\n",
       " '__sizeof__',\n",
       " '__str__',\n",
       " '__subclasshook__',\n",
       " '__weakref__',\n",
       " 'gender']"
      ]
     },
     "execution_count": 4,
     "metadata": {},
     "output_type": "execute_result"
    }
   ],
   "source": [
    "dir(person)"
   ]
  },
  {
   "cell_type": "code",
   "execution_count": 5,
   "metadata": {},
   "outputs": [
    {
     "name": "stdout",
     "output_type": "stream",
     "text": [
      "Krish\n"
     ]
    }
   ],
   "source": [
    "class Person :\n",
    "    def __init__(self,name,age,gender):\n",
    "        self._name=name ## Protected    we can Access this from derived class but not from outside the class \n",
    "        self._age=age ## Protected \n",
    "        self.gender=gender\n",
    "\n",
    "class  Employee(Person):\n",
    "    def __init__(self,name,age,gender):\n",
    "        super().__init__(name,age,gender)\n",
    "\n",
    "\n",
    "employee=Employee(\"Krish\",24,'Male') ## This is My derevable Class \n",
    "print(employee._name)"
   ]
  },
  {
   "cell_type": "code",
   "execution_count": 9,
   "metadata": {},
   "outputs": [
    {
     "name": "stdout",
     "output_type": "stream",
     "text": [
      "Mohammad\n",
      "24\n",
      "Ahmad\n",
      "20\n"
     ]
    }
   ],
   "source": [
    "## Encapsulation Using Getter And Setter \n",
    "class Person:\n",
    "    def __init__(self,name,age):\n",
    "        self.__name=name   ## Private Access Modifier \n",
    "        self.__age=age\n",
    "\n",
    "    ## getter method  for name \n",
    "    def get_name(self):\n",
    "        return self.__name\n",
    "    \n",
    "    ## Setter Method For name \n",
    "    def set_name(self,name):\n",
    "        self.__name=name\n",
    "\n",
    "    ## getter method  for age \n",
    "    def get_age(self):\n",
    "        return self.__age  \n",
    "    \n",
    "    def set_age(self,age):\n",
    "        if age>0:\n",
    "            self.__age=age\n",
    "        else:\n",
    "            print('Age Connot be negative')\n",
    "\n",
    "person=Person('Mohammad',24)\n",
    "\n",
    "## Access And Modify private Variables using getter and setter \n",
    "\n",
    "print(person.get_name())\n",
    "print(person.get_age())\n",
    "\n",
    "\n",
    "person.set_name(\"Ahmad\")\n",
    "person.set_age(20)\n",
    "\n",
    "print(person.get_name())\n",
    "print(person.get_age())\n",
    "\n"
   ]
  }
 ],
 "metadata": {
  "kernelspec": {
   "display_name": "base",
   "language": "python",
   "name": "python3"
  },
  "language_info": {
   "codemirror_mode": {
    "name": "ipython",
    "version": 3
   },
   "file_extension": ".py",
   "mimetype": "text/x-python",
   "name": "python",
   "nbconvert_exporter": "python",
   "pygments_lexer": "ipython3",
   "version": "3.11.7"
  }
 },
 "nbformat": 4,
 "nbformat_minor": 2
}
