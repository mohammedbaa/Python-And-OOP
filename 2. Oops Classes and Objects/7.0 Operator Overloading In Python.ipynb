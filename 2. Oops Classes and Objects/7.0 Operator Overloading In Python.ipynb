{
 "cells": [
  {
   "cell_type": "markdown",
   "metadata": {},
   "source": [
    "### Operator Overloading "
   ]
  },
  {
   "cell_type": "code",
   "execution_count": 1,
   "metadata": {},
   "outputs": [
    {
     "data": {
      "text/plain": [
       "'\\n **1) __add__(self,other)** : Add 2 object\\n\\n **2) __sub__(self,other)** : subtract 2 object \\n\\n **3) __mul__(self,other)**  : Multiplies 2 object \\n\\n **4) __truediv__(self,other)**  : devides 2 object using / len of an object \\n\\n **5) __eq__(self,other)**  : check if two object are equal or not \\n\\n **6) __lt__(self,other)**  : check if one object less than the other \\n'"
      ]
     },
     "execution_count": 1,
     "metadata": {},
     "output_type": "execute_result"
    }
   ],
   "source": [
    "'''\n",
    " **1) __add__(self,other)** : Add 2 object\n",
    "\n",
    " **2) __sub__(self,other)** : subtract 2 object \n",
    "\n",
    " **3) __mul__(self,other)**  : Multiplies 2 object \n",
    "\n",
    " **4) __truediv__(self,other)**  : devides 2 object using / len of an object \n",
    "\n",
    " **5) __eq__(self,other)**  : check if two object are equal or not \n",
    "\n",
    " **6) __lt__(self,other)**  : check if one object less than the other \n",
    "  \n",
    "**7) __gt__(self,other)**  : check if one object greater than the other \n",
    "'''"
   ]
  },
  {
   "cell_type": "code",
   "execution_count": 6,
   "metadata": {},
   "outputs": [
    {
     "name": "stdout",
     "output_type": "stream",
     "text": [
      "Vector(6,8)\n",
      "False\n",
      "Vector(-2,-2)\n",
      "Vector(36,45)\n"
     ]
    }
   ],
   "source": [
    "class Vector:\n",
    "    def __init__(self,x,y):\n",
    "        self.x=x\n",
    "        self.y=y\n",
    "\n",
    "    def __add__(self,other):\n",
    "        return Vector(self.x+other.x,self.y+other.y)\n",
    "    \n",
    "    def __sub__(self,other):\n",
    "        return Vector(self.x-other.x,self.y-other.y)\n",
    "    \n",
    "    def __mul__(self,other):\n",
    "        return Vector(self.x*other,self.y*other)\n",
    "    \n",
    "    def __eq__(self, other):\n",
    "        return self.x==other.x and self.y==other.y\n",
    "    \n",
    "    def __repr__(self):\n",
    "        return f'Vector({self.x},{self.y})'\n",
    "\n",
    "### Create oop \n",
    "v=Vector(2,3)\n",
    "v1=Vector(4,5)\n",
    "\n",
    "print(v+v1)\n",
    "print(v==v1)\n",
    "print(v-v1)\n",
    "print(v1*9)\n",
    "\n",
    "    "
   ]
  },
  {
   "cell_type": "code",
   "execution_count": 10,
   "metadata": {},
   "outputs": [
    {
     "name": "stdout",
     "output_type": "stream",
     "text": [
      "3+7\n",
      "1+-1\n",
      "-10+11\n",
      "0.8235294117647058+-0.29411764705882354\n",
      "False\n"
     ]
    }
   ],
   "source": [
    "### Overloading Complex numbers \n",
    "class ComplexNumber:\n",
    "    def __init__(self,real,imag):\n",
    "        self.real=real\n",
    "        self.imag=imag\n",
    "\n",
    "    def __add__(self,other):\n",
    "        return ComplexNumber(self.real+other.real,self.imag+other.imag)    \n",
    "    \n",
    "    def __sub__(self,other):\n",
    "        return ComplexNumber(self.real-other.real,self.imag-other.imag)  \n",
    "    \n",
    "    def __mul__(self,other):\n",
    "        real_part=self.real*other.real - self.imag*other.imag \n",
    "        imag_part=self.real*other.imag + self.imag *other.real \n",
    "        return ComplexNumber(real_part,imag_part)\n",
    "    \n",
    "    def __truediv__(self,other):\n",
    "        denominator=other.real**2 +other.imag**2 \n",
    "        real_part=(self.real*other.real + self.imag*other.imag)/denominator\n",
    "        imag_part=(self.imag*other.real-self.real*other.imag) / denominator\n",
    "        return ComplexNumber(real_part,imag_part)\n",
    "    \n",
    "    def __eq__(self,other):\n",
    "        return self.real==other.real and self.imag==other.imag \n",
    "    def __repr__(self):\n",
    "        return f\"{self.real}+{self.imag}\"\n",
    "    \n",
    "\n",
    "## Create An Object \n",
    "c1=ComplexNumber(2,3)\n",
    "c2=ComplexNumber(1,4)\n",
    "print(c1+c2)\n",
    "print(c1-c2)\n",
    "print(c1*c2)\n",
    "print(c1/c2)\n",
    "print(c1==c2)    \n",
    "    \n"
   ]
  }
 ],
 "metadata": {
  "kernelspec": {
   "display_name": "base",
   "language": "python",
   "name": "python3"
  },
  "language_info": {
   "codemirror_mode": {
    "name": "ipython",
    "version": 3
   },
   "file_extension": ".py",
   "mimetype": "text/x-python",
   "name": "python",
   "nbconvert_exporter": "python",
   "pygments_lexer": "ipython3",
   "version": "3.11.7"
  }
 },
 "nbformat": 4,
 "nbformat_minor": 2
}
