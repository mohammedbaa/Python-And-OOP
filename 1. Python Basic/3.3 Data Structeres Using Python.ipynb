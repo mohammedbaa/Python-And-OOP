{
 "cells": [
  {
   "cell_type": "markdown",
   "metadata": {},
   "source": [
    "## Real World Examples "
   ]
  },
  {
   "cell_type": "markdown",
   "metadata": {},
   "source": [
    "#### Example To Do List "
   ]
  },
  {
   "cell_type": "code",
   "execution_count": 3,
   "metadata": {},
   "outputs": [
    {
     "name": "stdout",
     "output_type": "stream",
     "text": [
      "reminder dont forget to pay it\n",
      "To Do List Remaning\n",
      "-buy Groceries\n",
      "-pay bills\n",
      "-Schedualk meeting\n",
      "-Go For A run\n"
     ]
    }
   ],
   "source": [
    "to_do_list=['buy Groceries','clean the house','pay bills']\n",
    "\n",
    "to_do_list.append(\"Schedualk meeting\")\n",
    "to_do_list.append(\"Go For A run\")\n",
    "\n",
    "\n",
    "to_do_list.remove('clean the house')\n",
    "\n",
    "if \"pay bills\" in to_do_list:\n",
    "    print(\"reminder dont forget to pay it\")\n",
    "\n",
    "print(\"To Do List Remaning\")\n",
    "for task in to_do_list:\n",
    "    print(f\"-{task}\")"
   ]
  },
  {
   "cell_type": "markdown",
   "metadata": {},
   "source": [
    "### Oragnaizing Student Grade"
   ]
  },
  {
   "cell_type": "code",
   "execution_count": 4,
   "metadata": {},
   "outputs": [
    {
     "name": "stdout",
     "output_type": "stream",
     "text": [
      "Average Grade:88.00\n",
      "Highest Grade:95\n",
      "Lowest Grade:78\n"
     ]
    }
   ],
   "source": [
    "grades=[85,92,78,90,88]\n",
    "\n",
    "grades.append(95)\n",
    "\n",
    "average_grade=sum(grades) / len(grades)\n",
    "\n",
    "print(f\"Average Grade:{average_grade:.2f}\")\n",
    "\n",
    "heighest_grades=max(grades)\n",
    "lowest_grades=min(grades)\n",
    "print(f\"Highest Grade:{heighest_grades}\")\n",
    "print(f\"Lowest Grade:{lowest_grades}\")"
   ]
  },
  {
   "cell_type": "markdown",
   "metadata": {},
   "source": [
    "### Managing An Inventory "
   ]
  },
  {
   "cell_type": "code",
   "execution_count": 6,
   "metadata": {},
   "outputs": [
    {
     "name": "stdout",
     "output_type": "stream",
     "text": [
      "oranges are in stock.\n",
      "Inventory List :\n",
      "-apples\n",
      "-oranges\n",
      "-grapes\n",
      "-strawberries\n"
     ]
    }
   ],
   "source": [
    "inventory=['apples','bananas','oranges','grapes']\n",
    "\n",
    "inventory.append(\"strawberries\")\n",
    "inventory.remove(\"bananas\")\n",
    "\n",
    "item='oranges'\n",
    "if item in inventory:\n",
    "    print(f\"{item} are in stock.\")\n",
    "else:\n",
    "    print(f\"{item} are not in stock\")\n",
    "\n",
    "\n",
    "print(\"Inventory List :\")\n",
    "for item in inventory:\n",
    "    print(f\"-{item}\")"
   ]
  },
  {
   "cell_type": "markdown",
   "metadata": {},
   "source": [
    "### Collecting User Feedback"
   ]
  },
  {
   "cell_type": "code",
   "execution_count": 10,
   "metadata": {},
   "outputs": [
    {
     "name": "stdout",
     "output_type": "stream",
     "text": [
      "Posative Feed back count :2\n",
      "User Feedback\n",
      "-Great service!\n",
      "-Very satisfies\n",
      "-Cloud be better\n",
      "-Excellent experience\n",
      "-Not Happy With the service\n"
     ]
    }
   ],
   "source": [
    "feed_back=['Great service!' , \"Very satisfies\",'Cloud be better','Excellent experience']\n",
    "\n",
    "feed_back.append(\"Not Happy With the service\")\n",
    "\n",
    "posative_feedback_count=sum(1 for comment in feed_back if \"great\" in comment.lower() or 'excellent' in comment.lower())\n",
    "print(f\"Posative Feed back count :{posative_feedback_count}\")\n",
    "\n",
    "\n",
    "print(\"User Feedback\")\n",
    "for comment in feed_back:\n",
    "    print(f\"-{comment}\")\n"
   ]
  },
  {
   "cell_type": "code",
   "execution_count": null,
   "metadata": {},
   "outputs": [],
   "source": []
  }
 ],
 "metadata": {
  "kernelspec": {
   "display_name": "base",
   "language": "python",
   "name": "python3"
  },
  "language_info": {
   "codemirror_mode": {
    "name": "ipython",
    "version": 3
   },
   "file_extension": ".py",
   "mimetype": "text/x-python",
   "name": "python",
   "nbconvert_exporter": "python",
   "pygments_lexer": "ipython3",
   "version": "3.11.7"
  }
 },
 "nbformat": 4,
 "nbformat_minor": 2
}
