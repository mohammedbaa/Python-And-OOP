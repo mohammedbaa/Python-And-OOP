{
 "cells": [
  {
   "cell_type": "markdown",
   "metadata": {},
   "source": [
    "## Dictionaries \n",
    "\n",
    "### Key Value pires : Key is uniqe and immutable but the value can be change "
   ]
  },
  {
   "cell_type": "code",
   "execution_count": 20,
   "metadata": {},
   "outputs": [
    {
     "data": {
      "text/plain": [
       "dict"
      ]
     },
     "execution_count": 20,
     "metadata": {},
     "output_type": "execute_result"
    }
   ],
   "source": [
    "## Create A Dictionaries \n",
    "empty_dic={}\n",
    "type(empty_dic)"
   ]
  },
  {
   "cell_type": "code",
   "execution_count": 21,
   "metadata": {},
   "outputs": [
    {
     "data": {
      "text/plain": [
       "{}"
      ]
     },
     "execution_count": 21,
     "metadata": {},
     "output_type": "execute_result"
    }
   ],
   "source": [
    "empty_dic=dict()\n",
    "empty_dic"
   ]
  },
  {
   "cell_type": "code",
   "execution_count": 22,
   "metadata": {},
   "outputs": [
    {
     "name": "stdout",
     "output_type": "stream",
     "text": [
      "{'name': 'krish', 'Age': 24, 'grade': 24}\n"
     ]
    }
   ],
   "source": [
    "student={\"name\":\"krish\", \"Age\":24 , \"grade\":24}\n",
    "print(student)"
   ]
  },
  {
   "cell_type": "code",
   "execution_count": 23,
   "metadata": {},
   "outputs": [
    {
     "name": "stdout",
     "output_type": "stream",
     "text": [
      "{'name': 'mohammad', 'Age': 24, 'grade': 24}\n"
     ]
    }
   ],
   "source": [
    "### Error \n",
    "\n",
    "student={\"name\":\"krish\", \"Age\":24 , \"grade\":24, \"name\":'mohammad'} ##  The Value is be replaced \n",
    "print(student)"
   ]
  },
  {
   "cell_type": "code",
   "execution_count": 24,
   "metadata": {},
   "outputs": [
    {
     "name": "stdout",
     "output_type": "stream",
     "text": [
      "24\n",
      "24\n"
     ]
    }
   ],
   "source": [
    "### Accessing Dict Elements \n",
    "\n",
    "student={\"name\":\"krish\", \"Age\":24 , \"grade\":24}\n",
    "print(student['grade'])\n",
    "print(student['Age'])"
   ]
  },
  {
   "cell_type": "code",
   "execution_count": 25,
   "metadata": {},
   "outputs": [
    {
     "name": "stdout",
     "output_type": "stream",
     "text": [
      "24\n",
      "None\n",
      "Not There\n"
     ]
    }
   ],
   "source": [
    "### Access using get() method \n",
    "print(student.get('grade'))\n",
    "print(student.get('last_name'))\n",
    "print(student.get(\"last_name\",\"Not There\"))"
   ]
  },
  {
   "cell_type": "code",
   "execution_count": 26,
   "metadata": {},
   "outputs": [
    {
     "name": "stdout",
     "output_type": "stream",
     "text": [
      "{'name': 'krish', 'Age': 24, 'grade': 24}\n"
     ]
    }
   ],
   "source": [
    "## Modifing Dict element \n",
    "## Dict Are mutable\n",
    "\n",
    "print(student)"
   ]
  },
  {
   "cell_type": "code",
   "execution_count": 27,
   "metadata": {},
   "outputs": [
    {
     "name": "stdout",
     "output_type": "stream",
     "text": [
      "{'name': 'krish', 'Age': 33, 'grade': 24}\n",
      "{'name': 'krish', 'Age': 33, 'grade': 24, 'adderss': 'Amman'}\n"
     ]
    }
   ],
   "source": [
    "student['Age']=33\n",
    "print(student)\n",
    "\n",
    "student['adderss']=\"Amman\" ## Add new key and value \n",
    "print(student)"
   ]
  },
  {
   "cell_type": "code",
   "execution_count": 28,
   "metadata": {},
   "outputs": [
    {
     "name": "stdout",
     "output_type": "stream",
     "text": [
      "{'name': 'krish', 'Age': 33, 'adderss': 'Amman'}\n"
     ]
    }
   ],
   "source": [
    "del student['grade'] ## Delete Key and value \n",
    "print(student)"
   ]
  },
  {
   "cell_type": "code",
   "execution_count": 32,
   "metadata": {},
   "outputs": [
    {
     "name": "stdout",
     "output_type": "stream",
     "text": [
      "dict_keys(['name', 'Age', 'adderss'])\n",
      "dict_values(['krish', 33, 'Amman'])\n",
      "dict_items([('name', 'krish'), ('Age', 33), ('adderss', 'Amman')])\n"
     ]
    }
   ],
   "source": [
    "## Dict Methods \n",
    "\n",
    "keys=student.keys()\n",
    "print(keys)\n",
    "\n",
    "values=student.values()\n",
    "print(values)\n",
    "\n",
    "items=student.items()\n",
    "print(items)"
   ]
  },
  {
   "cell_type": "code",
   "execution_count": 33,
   "metadata": {},
   "outputs": [
    {
     "name": "stdout",
     "output_type": "stream",
     "text": [
      "{'name': 'krish', 'Age': 33, 'adderss': 'Amman'}\n",
      "{'name': 'krish', 'Age': 33, 'adderss': 'Amman'}\n"
     ]
    }
   ],
   "source": [
    "### Shallow Copy \n",
    "\n",
    "student_copy=student\n",
    "print(student)\n",
    "print(student_copy)\n"
   ]
  },
  {
   "cell_type": "code",
   "execution_count": 34,
   "metadata": {},
   "outputs": [
    {
     "name": "stdout",
     "output_type": "stream",
     "text": [
      "{'name': 'Krish2', 'Age': 33, 'adderss': 'Amman'}\n",
      "{'name': 'Krish2', 'Age': 33, 'adderss': 'Amman'}\n"
     ]
    }
   ],
   "source": [
    "student['name']=\"Krish2\"\n",
    "print(student)\n",
    "print(student_copy)"
   ]
  },
  {
   "cell_type": "code",
   "execution_count": 35,
   "metadata": {},
   "outputs": [
    {
     "name": "stdout",
     "output_type": "stream",
     "text": [
      "{'name': 'Krish2', 'Age': 33, 'adderss': 'Amman'}\n",
      "{'name': 'Krish2', 'Age': 33, 'adderss': 'Amman'}\n"
     ]
    }
   ],
   "source": [
    "student_copy1=student.copy() ##Shallow Copy \n",
    "print(student)\n",
    "print(student_copy1)"
   ]
  },
  {
   "cell_type": "code",
   "execution_count": 36,
   "metadata": {},
   "outputs": [],
   "source": [
    "student['name']=\"Mohammad\""
   ]
  },
  {
   "cell_type": "code",
   "execution_count": 37,
   "metadata": {},
   "outputs": [
    {
     "name": "stdout",
     "output_type": "stream",
     "text": [
      "{'name': 'Mohammad', 'Age': 33, 'adderss': 'Amman'}\n",
      "{'name': 'Krish2', 'Age': 33, 'adderss': 'Amman'}\n"
     ]
    }
   ],
   "source": [
    "print(student)\n",
    "print(student_copy1)"
   ]
  },
  {
   "cell_type": "code",
   "execution_count": 38,
   "metadata": {},
   "outputs": [
    {
     "name": "stdout",
     "output_type": "stream",
     "text": [
      "name\n",
      "Age\n",
      "adderss\n"
     ]
    }
   ],
   "source": [
    "### Iterating Over dict \n",
    "### You can use loops to iterate over dict ,keys , values,or items \n",
    "\n",
    "for keys in student.keys():\n",
    "    print(keys)"
   ]
  },
  {
   "cell_type": "code",
   "execution_count": 39,
   "metadata": {},
   "outputs": [
    {
     "name": "stdout",
     "output_type": "stream",
     "text": [
      "Mohammad\n",
      "33\n",
      "Amman\n"
     ]
    }
   ],
   "source": [
    "### Itreate over values \n",
    "\n",
    "for values in student.values():\n",
    "    print(values)"
   ]
  },
  {
   "cell_type": "code",
   "execution_count": 40,
   "metadata": {},
   "outputs": [
    {
     "name": "stdout",
     "output_type": "stream",
     "text": [
      "name:Mohammad\n",
      "Age:33\n",
      "adderss:Amman\n"
     ]
    }
   ],
   "source": [
    "### Itreate over Key value paires \n",
    "for key,value in student.items():\n",
    "    print(f\"{key}:{value}\")"
   ]
  },
  {
   "cell_type": "code",
   "execution_count": 41,
   "metadata": {},
   "outputs": [
    {
     "name": "stdout",
     "output_type": "stream",
     "text": [
      "{'Student1': {'name': 'Krish', 'Age': 32}, 'Student2': {'name': 'Peter', 'Age': 35}}\n"
     ]
    }
   ],
   "source": [
    "### Nested Dict \n",
    "\n",
    "students={\n",
    "    \"Student1\":{\"name\":\"Krish\",\"Age\":32},\n",
    "    \"Student2\":{\"name\":\"Peter\",\"Age\":35}\n",
    "\n",
    "}\n",
    "\n",
    "\n",
    "print(students)"
   ]
  },
  {
   "cell_type": "code",
   "execution_count": 44,
   "metadata": {},
   "outputs": [
    {
     "name": "stdout",
     "output_type": "stream",
     "text": [
      "Peter\n",
      "35\n"
     ]
    }
   ],
   "source": [
    "### Access the nested Dict elements \n",
    "print(students[\"Student2\"]['name'])\n",
    "print(students[\"Student2\"]['Age'])\n"
   ]
  },
  {
   "cell_type": "code",
   "execution_count": 45,
   "metadata": {},
   "outputs": [
    {
     "name": "stdout",
     "output_type": "stream",
     "text": [
      "Student1:{'name': 'Krish', 'Age': 32}\n",
      "name:Krish\n",
      "Age:32\n",
      "Student2:{'name': 'Peter', 'Age': 35}\n",
      "name:Peter\n",
      "Age:35\n"
     ]
    }
   ],
   "source": [
    "### Itreate over Nested \n",
    "for student_id,student_info in students.items():\n",
    "    print(f\"{student_id}:{student_info}\")\n",
    "    for key,value in student_info.items():\n",
    "        print(f\"{key}:{value}\")\n"
   ]
  },
  {
   "cell_type": "code",
   "execution_count": 46,
   "metadata": {},
   "outputs": [],
   "source": [
    "### Dictionary Comphrehension \n",
    "\n",
    "squares={x:x**2 for x in range(5)}"
   ]
  },
  {
   "cell_type": "code",
   "execution_count": 47,
   "metadata": {},
   "outputs": [
    {
     "data": {
      "text/plain": [
       "{0: 0, 1: 1, 2: 4, 3: 9, 4: 16}"
      ]
     },
     "execution_count": 47,
     "metadata": {},
     "output_type": "execute_result"
    }
   ],
   "source": [
    "squares"
   ]
  },
  {
   "cell_type": "code",
   "execution_count": 48,
   "metadata": {},
   "outputs": [],
   "source": [
    "### conditions  Dictionary Comphrehension\n",
    "evens={x:x**2 for x in range(10) if x%2==0 } "
   ]
  },
  {
   "cell_type": "code",
   "execution_count": 49,
   "metadata": {},
   "outputs": [
    {
     "name": "stdout",
     "output_type": "stream",
     "text": [
      "{0: 0, 2: 4, 4: 16, 6: 36, 8: 64}\n"
     ]
    }
   ],
   "source": [
    "print(evens)"
   ]
  },
  {
   "cell_type": "code",
   "execution_count": 50,
   "metadata": {},
   "outputs": [
    {
     "name": "stdout",
     "output_type": "stream",
     "text": [
      "{1: 1, 2: 2, 3: 3, 4: 4}\n"
     ]
    }
   ],
   "source": [
    "### Practical Examples \n",
    "\n",
    "numbers=[1,2,2,3,3,3,4,4,4,4]\n",
    "\n",
    "frequancy={}\n",
    "\n",
    "for number in numbers:\n",
    "    if number in frequancy:\n",
    "        frequancy[number]+=1\n",
    "    else:\n",
    "        frequancy[number]=1\n",
    "\n",
    "print(frequancy)        "
   ]
  },
  {
   "cell_type": "code",
   "execution_count": 51,
   "metadata": {},
   "outputs": [],
   "source": [
    "### Merge 2 dict into 1 : \n",
    "\n",
    "dict1={\"a\":1,\"b\":2}\n",
    "dict2={\"b\":3,\"c\":4}\n",
    "\n",
    "merge_dict={**dict1,**dict2}\n"
   ]
  },
  {
   "cell_type": "code",
   "execution_count": 52,
   "metadata": {},
   "outputs": [
    {
     "data": {
      "text/plain": [
       "{'a': 1, 'b': 3, 'c': 4}"
      ]
     },
     "execution_count": 52,
     "metadata": {},
     "output_type": "execute_result"
    }
   ],
   "source": [
    "merge_dict"
   ]
  }
 ],
 "metadata": {
  "kernelspec": {
   "display_name": "base",
   "language": "python",
   "name": "python3"
  },
  "language_info": {
   "codemirror_mode": {
    "name": "ipython",
    "version": 3
   },
   "file_extension": ".py",
   "mimetype": "text/x-python",
   "name": "python",
   "nbconvert_exporter": "python",
   "pygments_lexer": "ipython3",
   "version": "3.11.7"
  }
 },
 "nbformat": 4,
 "nbformat_minor": 2
}
