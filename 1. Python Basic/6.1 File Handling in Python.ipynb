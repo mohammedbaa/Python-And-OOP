{
 "cells": [
  {
   "cell_type": "markdown",
   "metadata": {},
   "source": [
    "## Working with File Paths "
   ]
  },
  {
   "cell_type": "code",
   "execution_count": 2,
   "metadata": {},
   "outputs": [
    {
     "name": "stdout",
     "output_type": "stream",
     "text": [
      "Directory package 2\n"
     ]
    }
   ],
   "source": [
    "### Create A new directory \n",
    "import os \n",
    "new_directory='package 2'\n",
    "os.mkdir(new_directory)\n",
    "print(f'Directory {new_directory}')"
   ]
  },
  {
   "cell_type": "code",
   "execution_count": 3,
   "metadata": {},
   "outputs": [
    {
     "name": "stdout",
     "output_type": "stream",
     "text": [
      "['1.0 Basic.ipynb', '2.0 Control Flow.ipynb', '3.0 Data Structeres Using Python.ipynb', '3.1 Data Structeres Using Python.ipynb', '3.2 Data Structeres Using Python.ipynb', '3.3 Data Structeres Using Python.ipynb', '4.0 Functions In Python.ipynb', '4.1 Functions In Python.ipynb', '4.2 Functions In Python.ipynb', '4.3 Functions In Python.ipynb', '4.4 Functions In Python.ipynb', '5.0 Importing , Creating , Modules And Packages.ipynb', '5.1 Importing , Creating , Modules And Packages.ipynb', '6.0 File Handling in Python.ipynb', '6.1 File Handling in Python.ipynb', 'destination.txt', 'example.bin', 'example.csv', 'example.txt', 'package', 'package 2', 'sample.txt', 'source.txt', 'test_dir']\n"
     ]
    }
   ],
   "source": [
    "## Listing Files and Directories\n",
    "\n",
    "items=os.listdir('.')\n",
    "print(items)"
   ]
  },
  {
   "cell_type": "code",
   "execution_count": 4,
   "metadata": {},
   "outputs": [
    {
     "name": "stdout",
     "output_type": "stream",
     "text": [
      "folder\\file.txt\n"
     ]
    }
   ],
   "source": [
    "## Joining paths \n",
    "dir_name='folder'\n",
    "file_name='file.txt'\n",
    "full_path=os.path.join(dir_name,file_name)\n",
    "print(full_path)"
   ]
  },
  {
   "cell_type": "code",
   "execution_count": 5,
   "metadata": {},
   "outputs": [
    {
     "name": "stdout",
     "output_type": "stream",
     "text": [
      "e:\\Krish Nike Udemy Course\\Python Basic\\folder\\file.txt\n"
     ]
    }
   ],
   "source": [
    "## Full Path\n",
    "dir_name='folder'\n",
    "file_name='file.txt'\n",
    "full_path=os.path.join(os.getcwd(),dir_name,file_name)\n",
    "print(full_path)"
   ]
  },
  {
   "cell_type": "code",
   "execution_count": null,
   "metadata": {},
   "outputs": [],
   "source": [
    "path='example2.txt'\n",
    "if os.path.exists(path):\n",
    "    print(f'The path {path} Exists ')\n",
    "else:\n",
    "    print(f\"The path {path} Does not Exists\")"
   ]
  },
  {
   "cell_type": "code",
   "execution_count": 6,
   "metadata": {},
   "outputs": [
    {
     "name": "stdout",
     "output_type": "stream",
     "text": [
      "The path example.txt is a file \n"
     ]
    }
   ],
   "source": [
    "## Check if a path is a File Or Directory \n",
    "import os \n",
    "\n",
    "path='example.txt'\n",
    "if os.path.isfile(path):\n",
    "    print(f'The path {path} is a file ')\n",
    "elif os.path.isdir(path):\n",
    "     print(f'The path {path} is a directory ')\n",
    "else:\n",
    "      print(f'The path {path} is neither a file or a directory')\n",
    "\n"
   ]
  },
  {
   "cell_type": "code",
   "execution_count": 7,
   "metadata": {},
   "outputs": [
    {
     "name": "stdout",
     "output_type": "stream",
     "text": [
      "e:\\Krish Nike Udemy Course\\Python Basic\\example.txt\n"
     ]
    }
   ],
   "source": [
    "## Getting the absolute path \n",
    "\n",
    "relative_path='example.txt'\n",
    "absolute_path=os.path.abspath(relative_path)\n",
    "print(absolute_path)"
   ]
  },
  {
   "cell_type": "code",
   "execution_count": null,
   "metadata": {},
   "outputs": [],
   "source": []
  }
 ],
 "metadata": {
  "kernelspec": {
   "display_name": "base",
   "language": "python",
   "name": "python3"
  },
  "language_info": {
   "codemirror_mode": {
    "name": "ipython",
    "version": 3
   },
   "file_extension": ".py",
   "mimetype": "text/x-python",
   "name": "python",
   "nbconvert_exporter": "python",
   "pygments_lexer": "ipython3",
   "version": "3.11.7"
  }
 },
 "nbformat": 4,
 "nbformat_minor": 2
}
