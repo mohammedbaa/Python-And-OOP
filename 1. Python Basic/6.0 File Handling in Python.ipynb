{
 "cells": [
  {
   "cell_type": "markdown",
   "metadata": {},
   "source": [
    "### File Opreation- Read And Write Files"
   ]
  },
  {
   "cell_type": "code",
   "execution_count": 12,
   "metadata": {},
   "outputs": [
    {
     "name": "stdout",
     "output_type": "stream",
     "text": [
      "hello world\n",
      "this is a new lineAppend operation taking place!\n",
      "Append operation taking place!\n",
      "First line \n",
      "Second line\n",
      "theird line\n",
      "\n"
     ]
    }
   ],
   "source": [
    "### Read A whole File \n",
    "\n",
    "with open ('example.txt','r') as file :\n",
    "    content=file.read()\n",
    "    print(content)"
   ]
  },
  {
   "cell_type": "code",
   "execution_count": 13,
   "metadata": {},
   "outputs": [
    {
     "name": "stdout",
     "output_type": "stream",
     "text": [
      "hello world\n",
      "this is a new lineAppend operation taking place!\n",
      "Append operation taking place!\n",
      "First line\n",
      "Second line\n",
      "theird line\n"
     ]
    }
   ],
   "source": [
    "## Read a file line by line \n",
    "with open ('example.txt','r') as file : \n",
    "    for line in file :\n",
    "        print(line.strip()) ## strip() removes the newline character "
   ]
  },
  {
   "cell_type": "code",
   "execution_count": 14,
   "metadata": {},
   "outputs": [],
   "source": [
    "### Writing a file (Overwriting)\n",
    "\n",
    "with open ('example.txt','w') as file:\n",
    "    file.write('hello world\\n')\n",
    "    file.write('this is a new line')\n"
   ]
  },
  {
   "cell_type": "code",
   "execution_count": 15,
   "metadata": {},
   "outputs": [],
   "source": [
    "### Writing a file (without Overwriting)\n",
    "\n",
    "with open('example.txt','a') as file:\n",
    "    file.write('\\nAppend operation taking place!\\n')"
   ]
  },
  {
   "cell_type": "code",
   "execution_count": 16,
   "metadata": {},
   "outputs": [],
   "source": [
    "## Writing list of lines to a file \n",
    "\n",
    "lines=['First line \\n','Second line\\n','theird line\\n']\n",
    "\n",
    "with open('example.txt','a') as file:\n",
    "    file.writelines(lines)"
   ]
  },
  {
   "cell_type": "code",
   "execution_count": 17,
   "metadata": {},
   "outputs": [],
   "source": [
    "### Binary Files\n",
    "## Writing to a binary file \n",
    "data=b'\\x00\\x01\\x02\\x03\\x04'\n",
    "with open('example.bin','wb') as file:\n",
    "    file.write(data)"
   ]
  },
  {
   "cell_type": "code",
   "execution_count": 18,
   "metadata": {},
   "outputs": [
    {
     "name": "stdout",
     "output_type": "stream",
     "text": [
      "b'\\x00\\x01\\x02\\x03\\x04'\n"
     ]
    }
   ],
   "source": [
    "## Reading a binary File \n",
    "with open('example.bin','rb') as file:\n",
    "    content=file.read()\n",
    "    print(content)"
   ]
  },
  {
   "cell_type": "code",
   "execution_count": null,
   "metadata": {},
   "outputs": [],
   "source": [
    "## Read the content from a source text file and write to a destination text file \n",
    "## Copying a text file \n",
    "\n",
    "with open ('source.txt','r') as source_file:\n",
    "    content=source_file.read()\n",
    "\n",
    "\n",
    "with open ('destination.txt','w') as destination_file:\n",
    "    destination_file.write(content)"
   ]
  },
  {
   "cell_type": "code",
   "execution_count": 19,
   "metadata": {},
   "outputs": [],
   "source": [
    "\n",
    "with open ('example.txt','r') as source_file:\n",
    "    content=source_file.read()\n",
    "\n",
    "\n",
    "with open ('destination.txt','w') as destination_file:\n",
    "    destination_file.write(content)"
   ]
  },
  {
   "cell_type": "code",
   "execution_count": 21,
   "metadata": {},
   "outputs": [
    {
     "name": "stdout",
     "output_type": "stream",
     "text": [
      "lines:6,words:17,Characters:98\n"
     ]
    }
   ],
   "source": [
    "## Read  a text file and count the number of lines , words and characters\n",
    "def count_text_file(file_path):\n",
    "    with open(file_path,'r') as file : \n",
    "        lines=file.readlines()\n",
    "        line_count=len(lines)\n",
    "        word_count=sum(len(line.split()) for line in lines)\n",
    "        char_count=sum(len(line) for line in lines)\n",
    "    return line_count,word_count,char_count \n",
    "\n",
    "file_path='example.txt'\n",
    "line,words,characters=count_text_file(file_path)\n",
    "print(f'lines:{line},words:{words},Characters:{characters}')    "
   ]
  },
  {
   "cell_type": "code",
   "execution_count": 24,
   "metadata": {},
   "outputs": [
    {
     "name": "stdout",
     "output_type": "stream",
     "text": [
      "Hello World\n",
      "This is New line\n",
      "\n"
     ]
    }
   ],
   "source": [
    "### Writing and then Reading A File \n",
    "with open('example.txt','w+') as file : \n",
    "    file.write('Hello World\\n')\n",
    "    file.write('This is New line\\n')\n",
    "\n",
    "    ##Move the file cursor to the beggining \n",
    "    file.seek(0)\n",
    "\n",
    "\n",
    "    ## Read the content of file \n",
    "    content=file.read()\n",
    "    print(content) "
   ]
  }
 ],
 "metadata": {
  "kernelspec": {
   "display_name": "base",
   "language": "python",
   "name": "python3"
  },
  "language_info": {
   "codemirror_mode": {
    "name": "ipython",
    "version": 3
   },
   "file_extension": ".py",
   "mimetype": "text/x-python",
   "name": "python",
   "nbconvert_exporter": "python",
   "pygments_lexer": "ipython3",
   "version": "3.11.7"
  }
 },
 "nbformat": 4,
 "nbformat_minor": 2
}
